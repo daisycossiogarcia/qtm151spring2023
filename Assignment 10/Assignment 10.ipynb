{
 "cells": [
  {
   "attachments": {},
   "cell_type": "markdown",
   "metadata": {},
   "source": [
    "# Assignment 10"
   ]
  },
  {
   "attachments": {},
   "cell_type": "markdown",
   "metadata": {},
   "source": [
    "## Try to submit as an HTML file"
   ]
  },
  {
   "attachments": {},
   "cell_type": "markdown",
   "metadata": {},
   "source": [
    "<font size = \"5\">\n",
    "Print your name below"
   ]
  },
  {
   "cell_type": "code",
   "execution_count": 1,
   "metadata": {},
   "outputs": [
    {
     "name": "stdout",
     "output_type": "stream",
     "text": [
      "Daisy Cossio Garcia\n"
     ]
    }
   ],
   "source": [
    "print(\"Daisy Cossio Garcia\")"
   ]
  },
  {
   "attachments": {},
   "cell_type": "markdown",
   "metadata": {},
   "source": [
    "<font size = \"5\">\n",
    "\n",
    "Import the \"pandas\" and \"matplotlib.pyplot\" libraries."
   ]
  },
  {
   "cell_type": "code",
   "execution_count": 2,
   "metadata": {},
   "outputs": [],
   "source": [
    "# Write your answer here:\n",
    "\n",
    "import pandas as pd\n",
    "import matplotlib.pyplot as plt\n",
    "import matplotlib.dates as mdates\n",
    "from datetime import date, time, datetime"
   ]
  },
  {
   "attachments": {},
   "cell_type": "markdown",
   "metadata": {},
   "source": [
    "<font size = \"5\">\n",
    "\n",
    "In this assignment, we will work with a World Bank <br>\n",
    "dataset on the proportion of urban population across <br>\n",
    "countries, from 2016-2020.\n",
    "\n",
    "- This is an example of a \"panel\"/\"longitudinal\" dataset <br>\n",
    " which contains information about the same unit (country) <br>\n",
    " over time.\n",
    " - This is in \"long\" format (see Lecture 22)"
   ]
  },
  {
   "attachments": {},
   "cell_type": "markdown",
   "metadata": {},
   "source": [
    "<font size = \"5\">\n",
    "\n",
    "(a) Import data and parse dates \n",
    "\n",
    "<font size = \"3\">\n",
    "\n",
    "\n",
    "- Import \"data_raw/wdi_long.csv\"\n",
    "- Create a new column called \"date\" which uses ```pd.to_datetime(...,format = ...)``` <br>\n",
    "to convert year to a date format\n",
    "- To get full points use wild cards to establish the format.\n",
    "\n",
    "Hint: See Lecture 21 for information about wild cards"
   ]
  },
  {
   "cell_type": "code",
   "execution_count": 5,
   "metadata": {},
   "outputs": [],
   "source": [
    "# Write your own code\n",
    "\n",
    "wdi = pd.read_csv(\"data_raw/wdi_long.csv\")\n",
    "\n",
    "wdi[\"date\"] = pd.to_datetime(wdi[\"year\"], format = \"%Y\")\n"
   ]
  },
  {
   "attachments": {},
   "cell_type": "markdown",
   "metadata": {},
   "source": [
    "<font size = \"5\">\n",
    "\n",
    "(b)  Sort by two columns\n",
    "\n",
    "<font size = \"3\">\n",
    "\n",
    "- Create a new dataset \"data_sorted\" that sorts by \"country_name\" and \"date\"\n",
    "\n",
    "HINT: Include a list of column names as the main sorting argument."
   ]
  },
  {
   "cell_type": "code",
   "execution_count": 6,
   "metadata": {},
   "outputs": [],
   "source": [
    "# Write your own code\n",
    "data_sorted = wdi.sort_values(by= [\"country_name\", \"date\"], ascending= True )"
   ]
  },
  {
   "attachments": {},
   "cell_type": "markdown",
   "metadata": {},
   "source": [
    "<font size = \"5\">\n",
    "\n",
    "(c) Compute grouped time differences\n",
    "\n",
    "<font size = \"3\">\n",
    "\n",
    "**Example**\n",
    "- Each country has data for multiple dates\n",
    "- The following code calculates the time-difference between each date <br>\n",
    "```\n",
    "(data_sorted.groupby(\"country_name\")[\"date\"]\n",
    "            .diff())\n",
    "```\n",
    "\n",
    "**Instructions**:\n",
    "- Now, instead of [\"date\"] use ```[\"prop_urban\"]```\n",
    "- Store the result in a new column called \"diff_prop_urban\"\n",
    "- This adds a new column with the country-level changes in <br>\n",
    "the urban propulaton each year\n",
    "\n",
    "HINT: Check Lecture 22 for using ```.diff()``` <br>\n",
    "Note: Using \".groupby()\" is important so that each country is analyzed <br>\n",
    "separately."
   ]
  },
  {
   "cell_type": "code",
   "execution_count": 9,
   "metadata": {},
   "outputs": [
    {
     "data": {
      "text/html": [
       "<div>\n",
       "<style scoped>\n",
       "    .dataframe tbody tr th:only-of-type {\n",
       "        vertical-align: middle;\n",
       "    }\n",
       "\n",
       "    .dataframe tbody tr th {\n",
       "        vertical-align: top;\n",
       "    }\n",
       "\n",
       "    .dataframe thead th {\n",
       "        text-align: right;\n",
       "    }\n",
       "</style>\n",
       "<table border=\"1\" class=\"dataframe\">\n",
       "  <thead>\n",
       "    <tr style=\"text-align: right;\">\n",
       "      <th></th>\n",
       "      <th>prop_urban</th>\n",
       "      <th>diff_prop_urban</th>\n",
       "    </tr>\n",
       "  </thead>\n",
       "  <tbody>\n",
       "    <tr>\n",
       "      <th>0</th>\n",
       "      <td>25.020</td>\n",
       "      <td>NaN</td>\n",
       "    </tr>\n",
       "    <tr>\n",
       "      <th>217</th>\n",
       "      <td>25.250</td>\n",
       "      <td>0.230</td>\n",
       "    </tr>\n",
       "    <tr>\n",
       "      <th>434</th>\n",
       "      <td>25.495</td>\n",
       "      <td>0.245</td>\n",
       "    </tr>\n",
       "    <tr>\n",
       "      <th>651</th>\n",
       "      <td>25.754</td>\n",
       "      <td>0.259</td>\n",
       "    </tr>\n",
       "    <tr>\n",
       "      <th>868</th>\n",
       "      <td>26.026</td>\n",
       "      <td>0.272</td>\n",
       "    </tr>\n",
       "    <tr>\n",
       "      <th>...</th>\n",
       "      <td>...</td>\n",
       "      <td>...</td>\n",
       "    </tr>\n",
       "    <tr>\n",
       "      <th>216</th>\n",
       "      <td>32.296</td>\n",
       "      <td>NaN</td>\n",
       "    </tr>\n",
       "    <tr>\n",
       "      <th>433</th>\n",
       "      <td>32.237</td>\n",
       "      <td>-0.059</td>\n",
       "    </tr>\n",
       "    <tr>\n",
       "      <th>650</th>\n",
       "      <td>32.209</td>\n",
       "      <td>-0.028</td>\n",
       "    </tr>\n",
       "    <tr>\n",
       "      <th>867</th>\n",
       "      <td>32.210</td>\n",
       "      <td>0.001</td>\n",
       "    </tr>\n",
       "    <tr>\n",
       "      <th>1084</th>\n",
       "      <td>32.242</td>\n",
       "      <td>0.032</td>\n",
       "    </tr>\n",
       "  </tbody>\n",
       "</table>\n",
       "<p>1085 rows × 2 columns</p>\n",
       "</div>"
      ],
      "text/plain": [
       "      prop_urban  diff_prop_urban\n",
       "0         25.020              NaN\n",
       "217       25.250            0.230\n",
       "434       25.495            0.245\n",
       "651       25.754            0.259\n",
       "868       26.026            0.272\n",
       "...          ...              ...\n",
       "216       32.296              NaN\n",
       "433       32.237           -0.059\n",
       "650       32.209           -0.028\n",
       "867       32.210            0.001\n",
       "1084      32.242            0.032\n",
       "\n",
       "[1085 rows x 2 columns]"
      ]
     },
     "metadata": {},
     "output_type": "display_data"
    }
   ],
   "source": [
    "# Write your own code\n",
    "data_sorted[\"diff_prop_urban\"] = (data_sorted.groupby(\"country_name\")[\"prop_urban\"].diff())\n",
    "display(data_sorted[[\"prop_urban\",\"diff_prop_urban\" ]])"
   ]
  },
  {
   "attachments": {},
   "cell_type": "markdown",
   "metadata": {},
   "source": [
    "<font size = \"5\">\n",
    "\n",
    "(d) Plot time series for single country\n",
    "\n",
    "<font size = \"3\">\n",
    "\n",
    "- Use \".query()\" to subset \"data_sorted\" for rows that satisfy\n",
    "\n",
    "$\\quad$  ```  'country_name == \"United States\"' ```\n",
    " \n",
    "- Produce a line plot with the evolution of \"prop_urban\" over time in the <br>\n",
    "United States\n",
    "\n"
   ]
  },
  {
   "cell_type": "code",
   "execution_count": 10,
   "metadata": {},
   "outputs": [
    {
     "data": {
      "image/png": "[encoded data removed]",
      "text/plain": [
       "<Figure size 640x480 with 1 Axes>"
      ]
     },
     "metadata": {},
     "output_type": "display_data"
    }
   ],
   "source": [
    "# Write your own code\n",
    "data_query = data_sorted.query('country_name == \"United States\"')\n",
    "\n",
    "data_query[[\"date\",\"prop_urban\"]].set_index(\"date\").plot()\n",
    "plt.xlabel(\"Time\")\n",
    "plt.ylabel(\"Change of Urban Population in the USA\")\n",
    "plt.title(\"Change in the Proportion of Urban Population in the USA Over Time\")\n",
    "plt.show()\n",
    "\n",
    "# I don't know if this is what the question meant to ask because using the \"prop_urban\" is an alarmly very straight line\"\n"
   ]
  },
  {
   "attachments": {},
   "cell_type": "markdown",
   "metadata": {},
   "source": [
    "<font size = \"5\">\n",
    "\n",
    "(e) Convert to wide format\n",
    "\n",
    "<font size = \"3\">\n",
    "\n",
    "- Convert \"data_sorted\" from long to wide, using the following arguments: <br>\n",
    "```\n",
    "   index = 'country_name'\n",
    "   columns = 'year'\n",
    "   values =  'prop_urban'\n",
    "```\n",
    "- Display the dataset to check that it is in wide format\n",
    "\n",
    "HINT: See Lecture 22 for details\n",
    "\n"
   ]
  },
  {
   "cell_type": "code",
   "execution_count": 11,
   "metadata": {},
   "outputs": [
    {
     "data": {
      "text/html": [
       "<div>\n",
       "<style scoped>\n",
       "    .dataframe tbody tr th:only-of-type {\n",
       "        vertical-align: middle;\n",
       "    }\n",
       "\n",
       "    .dataframe tbody tr th {\n",
       "        vertical-align: top;\n",
       "    }\n",
       "\n",
       "    .dataframe thead th {\n",
       "        text-align: right;\n",
       "    }\n",
       "</style>\n",
       "<table border=\"1\" class=\"dataframe\">\n",
       "  <thead>\n",
       "    <tr style=\"text-align: right;\">\n",
       "      <th>year</th>\n",
       "      <th>2016</th>\n",
       "      <th>2017</th>\n",
       "      <th>2018</th>\n",
       "      <th>2019</th>\n",
       "      <th>2020</th>\n",
       "    </tr>\n",
       "    <tr>\n",
       "      <th>country_name</th>\n",
       "      <th></th>\n",
       "      <th></th>\n",
       "      <th></th>\n",
       "      <th></th>\n",
       "      <th></th>\n",
       "    </tr>\n",
       "  </thead>\n",
       "  <tbody>\n",
       "    <tr>\n",
       "      <th>Afghanistan</th>\n",
       "      <td>25.020</td>\n",
       "      <td>25.250</td>\n",
       "      <td>25.495</td>\n",
       "      <td>25.754</td>\n",
       "      <td>26.026</td>\n",
       "    </tr>\n",
       "    <tr>\n",
       "      <th>Albania</th>\n",
       "      <td>58.421</td>\n",
       "      <td>59.383</td>\n",
       "      <td>60.319</td>\n",
       "      <td>61.229</td>\n",
       "      <td>62.112</td>\n",
       "    </tr>\n",
       "    <tr>\n",
       "      <th>Algeria</th>\n",
       "      <td>71.459</td>\n",
       "      <td>72.052</td>\n",
       "      <td>72.629</td>\n",
       "      <td>73.189</td>\n",
       "      <td>73.733</td>\n",
       "    </tr>\n",
       "    <tr>\n",
       "      <th>American Samoa</th>\n",
       "      <td>87.198</td>\n",
       "      <td>87.170</td>\n",
       "      <td>87.153</td>\n",
       "      <td>87.147</td>\n",
       "      <td>87.153</td>\n",
       "    </tr>\n",
       "    <tr>\n",
       "      <th>Andorra</th>\n",
       "      <td>88.248</td>\n",
       "      <td>88.150</td>\n",
       "      <td>88.062</td>\n",
       "      <td>87.984</td>\n",
       "      <td>87.916</td>\n",
       "    </tr>\n",
       "  </tbody>\n",
       "</table>\n",
       "</div>"
      ],
      "text/plain": [
       "year              2016    2017    2018    2019    2020\n",
       "country_name                                          \n",
       "Afghanistan     25.020  25.250  25.495  25.754  26.026\n",
       "Albania         58.421  59.383  60.319  61.229  62.112\n",
       "Algeria         71.459  72.052  72.629  73.189  73.733\n",
       "American Samoa  87.198  87.170  87.153  87.147  87.153\n",
       "Andorra         88.248  88.150  88.062  87.984  87.916"
      ]
     },
     "execution_count": 11,
     "metadata": {},
     "output_type": "execute_result"
    }
   ],
   "source": [
    "# Write your own code\n",
    "data_wide = (pd.pivot(data_sorted,\n",
    "                           index = 'country_name',\n",
    "                           columns = 'year',\n",
    "                           values =  'prop_urban'))\n",
    "\n",
    "data_wide.head()\n",
    "\n"
   ]
  }
 ],
 "metadata": {
  "kernelspec": {
   "display_name": "Python 3",
   "language": "python",
   "name": "python3"
  },
  "language_info": {
   "codemirror_mode": {
    "name": "ipython",
    "version": 3
   },
   "file_extension": ".py",
   "mimetype": "text/x-python",
   "name": "python",
   "nbconvert_exporter": "python",
   "pygments_lexer": "ipython3",
   "version": "3.11.1 (v3.11.1:a7a450f84a, Dec  6 2022, 15:24:06) [Clang 13.0.0 (clang-1300.0.29.30)]"
  },
  "orig_nbformat": 4,
  "vscode": {
   "interpreter": {
    "hash": "aee8b7b246df8f9039afb4144a1f6fd8d2ca17a180786b69acc140d282b71a49"
   }
  }
 },
 "nbformat": 4,
 "nbformat_minor": 2
}
